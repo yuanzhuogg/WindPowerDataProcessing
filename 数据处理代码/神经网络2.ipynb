{
 "cells": [
  {
   "cell_type": "code",
   "execution_count": 1,
   "metadata": {},
   "outputs": [],
   "source": [
    "import pandas as pd\n",
    "import numpy as np\n",
    "import matplotlib.pyplot as plt"
   ]
  },
  {
   "cell_type": "code",
   "execution_count": 2,
   "metadata": {},
   "outputs": [],
   "source": [
    "data = pd.read_csv(\"D:\\\\digital_collect_train_2\\\\代码实现\\\\all.txt\",sep=',',header=None)"
   ]
  },
  {
   "cell_type": "code",
   "execution_count": 3,
   "metadata": {},
   "outputs": [],
   "source": [
    "fddata = data[16]"
   ]
  },
  {
   "cell_type": "code",
   "execution_count": 4,
   "metadata": {},
   "outputs": [],
   "source": [
    "fddate = data[[2,19,23,25,17,18]]"
   ]
  },
  {
   "cell_type": "code",
   "execution_count": 86,
   "metadata": {
    "scrolled": false
   },
   "outputs": [
    {
     "data": {
      "text/plain": [
       "2     0\n",
       "19    0\n",
       "23    0\n",
       "25    0\n",
       "17    0\n",
       "18    0\n",
       "dtype: int64"
      ]
     },
     "execution_count": 86,
     "metadata": {},
     "output_type": "execute_result"
    }
   ],
   "source": [
    "fddate.isna().sum()"
   ]
  },
  {
   "cell_type": "code",
   "execution_count": 5,
   "metadata": {},
   "outputs": [],
   "source": [
    "import tensorflow as tf\n",
    "import numpy as np\n",
    "import matplotlib.pyplot as plt"
   ]
  },
  {
   "cell_type": "markdown",
   "metadata": {},
   "source": [
    "//隐含层"
   ]
  },
  {
   "cell_type": "code",
   "execution_count": 6,
   "metadata": {},
   "outputs": [],
   "source": [
    "def add_layer(input,in_size,out_size,activation_function=None):\n",
    "    \n",
    "    Weights = tf.Variable(tf.random_normal([in_size,out_size]))\n",
    "    Biases = tf.Variable(tf.zeros([1,out_size]))\n",
    "    \n",
    "    Wx_plus_b = tf.matmul(tf.cast(input,tf.float32),Weights) + Biases\n",
    "    \n",
    "    \n",
    "    if activation_function is None:\n",
    "        output = Wx_plus_b\n",
    "    else:\n",
    "        output = activation_function(Wx_plus_b)\n",
    "    \n",
    "    return output"
   ]
  },
  {
   "cell_type": "markdown",
   "metadata": {},
   "source": [
    "构建数据"
   ]
  },
  {
   "cell_type": "code",
   "execution_count": 17,
   "metadata": {},
   "outputs": [],
   "source": [
    "\n",
    "\n",
    "x = data[[2,19,23,25]]\n",
    "y = data[[17]]\n",
    "x_train = np.mat(x )\n",
    "# x_b = np.ones((2955104,1))\n",
    "# x_train = np.hstack((x_b,x_train))\n",
    "y_train = np.mat(y)\n",
    "\n",
    "# xs = tf.placeholder(tf.float32,[None,4])\n",
    "# ys = tf.placeholder(tf.float32,[None,1])"
   ]
  },
  {
   "cell_type": "code",
   "execution_count": 8,
   "metadata": {},
   "outputs": [
    {
     "data": {
      "text/plain": [
       "matrix([[ 5.209e+01,  7.370e+02,  7.500e+00,  4.040e+00],\n",
       "        [ 5.250e+01,  7.350e+02,  6.570e+00,  4.360e+00],\n",
       "        [ 5.150e+01,  7.370e+02,  6.180e+00,  5.040e+00],\n",
       "        ...,\n",
       "        [ 6.500e+00,  0.000e+00,  1.600e-01, -1.113e+01],\n",
       "        [ 6.500e+00,  0.000e+00,  1.800e-01, -1.281e+01],\n",
       "        [ 6.500e+00,  0.000e+00,  7.900e-01, -1.710e+01]])"
      ]
     },
     "execution_count": 8,
     "metadata": {},
     "output_type": "execute_result"
    }
   ],
   "source": [
    "x_train"
   ]
  },
  {
   "cell_type": "code",
   "execution_count": 9,
   "metadata": {},
   "outputs": [
    {
     "data": {
      "text/plain": [
       "matrix([[ 0.  ],\n",
       "        [ 0.  ],\n",
       "        [-0.01],\n",
       "        ...,\n",
       "        [ 0.  ],\n",
       "        [ 0.  ],\n",
       "        [ 0.  ]])"
      ]
     },
     "execution_count": 9,
     "metadata": {},
     "output_type": "execute_result"
    }
   ],
   "source": [
    "y_train"
   ]
  },
  {
   "cell_type": "markdown",
   "metadata": {},
   "source": [
    "构建神经网络"
   ]
  },
  {
   "cell_type": "code",
   "execution_count": 10,
   "metadata": {},
   "outputs": [
    {
     "name": "stdout",
     "output_type": "stream",
     "text": [
      "WARNING:tensorflow:From D:\\Anaconda3\\lib\\site-packages\\tensorflow\\python\\framework\\op_def_library.py:263: colocate_with (from tensorflow.python.framework.ops) is deprecated and will be removed in a future version.\n",
      "Instructions for updating:\n",
      "Colocations handled automatically by placer.\n"
     ]
    }
   ],
   "source": [
    "#构建第一层神经网络\n",
    "l1 = add_layer(x_train,4,10,activation_function=tf.nn.sigmoid)\n",
    "\n",
    "#构建第二层\n",
    "#l2 = add_layer(l1,10,3,activation_function=tf.nn.relu)\n",
    "#输出层\n",
    "predition = add_layer(l1,10,1,activation_function=None)\n"
   ]
  },
  {
   "cell_type": "code",
   "execution_count": null,
   "metadata": {
    "scrolled": true
   },
   "outputs": [],
   "source": [
    "#均值平方差\n",
    "loss = tf.reduce_mean(tf.reduce_sum(tf.square(y_train-predition),reduction_indices=[1]))\n",
    "\n",
    "#构建优化器 梯度下降\n",
    "train_step = tf.train.GradientDescentOptimizer(0.1).minimize(loss)\n",
    "\n",
    "#初始化变量\n",
    "init = tf.initialize_all_variables()\n",
    "sess = tf.Session()\n",
    "sess.run(init)\n",
    "\n",
    "#\n",
    "for i  in range(1,200):\n",
    "    \n",
    "    sess.run(train_step)\n",
    "    if i%5==0:\n",
    "        print('loss=',sess.run(loss))\n",
    "                \n",
    "predition_value = sess.run(predition)\n",
    "#\n",
    "\n",
    "predition_value = predition_value.reshape((-1))\n",
    "#lines =ax.scatter(x_data,predition_value)\n",
    "#plt.show()"
   ]
  },
  {
   "cell_type": "code",
   "execution_count": 67,
   "metadata": {},
   "outputs": [
    {
     "name": "stdout",
     "output_type": "stream",
     "text": [
      "predition= (2955104,)\n"
     ]
    }
   ],
   "source": [
    "print(\"predition=\",predition_value.shape)"
   ]
  },
  {
   "cell_type": "code",
   "execution_count": 15,
   "metadata": {},
   "outputs": [],
   "source": [
    "df3 = pd.read_csv('D:\\\\digital_collect_train_2\\\\代码实现\\\\loss.txt')"
   ]
  },
  {
   "cell_type": "code",
   "execution_count": 16,
   "metadata": {},
   "outputs": [
    {
     "data": {
      "text/plain": [
       "<matplotlib.axes._subplots.AxesSubplot at 0x2604bd3fe80>"
      ]
     },
     "execution_count": 16,
     "metadata": {},
     "output_type": "execute_result"
    },
    {
     "data": {
      "image/png": "[encoded data removed]",
      "text/plain": [
       "<Figure size 432x288 with 1 Axes>"
      ]
     },
     "metadata": {
      "needs_background": "light"
     },
     "output_type": "display_data"
    }
   ],
   "source": [
    "df3.plot()"
   ]
  },
  {
   "cell_type": "code",
   "execution_count": null,
   "metadata": {},
   "outputs": [],
   "source": []
  }
 ],
 "metadata": {
  "kernelspec": {
   "display_name": "Python 3",
   "language": "python",
   "name": "python3"
  },
  "language_info": {
   "codemirror_mode": {
    "name": "ipython",
    "version": 3
   },
   "file_extension": ".py",
   "mimetype": "text/x-python",
   "name": "python",
   "nbconvert_exporter": "python",
   "pygments_lexer": "ipython3",
   "version": "3.7.1"
  }
 },
 "nbformat": 4,
 "nbformat_minor": 2
}
